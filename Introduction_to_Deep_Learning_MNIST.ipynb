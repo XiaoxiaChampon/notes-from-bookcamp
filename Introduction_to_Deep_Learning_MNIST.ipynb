{
  "nbformat": 4,
  "nbformat_minor": 0,
  "metadata": {
    "colab": {
      "name": "Introduction to Deep Learning - MNIST.ipynb",
      "provenance": [],
      "collapsed_sections": [],
      "toc_visible": true
    },
    "kernelspec": {
      "name": "python3",
      "display_name": "Python 3"
    },
    "accelerator": "GPU"
  },
  "cells": [
    {
      "cell_type": "markdown",
      "metadata": {
        "id": "aPKFgECO9-lq",
        "colab_type": "text"
      },
      "source": [
        "## Check your runtime environment (optional)\n",
        "\n",
        "Usually it is recommended to use GPU to train a CNN. Based on our dataset, it takes ~1min to train a single epoch using CPU, while only 10s when using a GPU."
      ]
    },
    {
      "cell_type": "code",
      "metadata": {
        "id": "H-dTPz38-GnC",
        "colab_type": "code",
        "outputId": "84c9275d-10c7-4455-d5c6-9ad7966a072e",
        "colab": {
          "base_uri": "https://localhost:8080/",
          "height": 62
        }
      },
      "source": [
        "import tensorflow as tf"
      ],
      "execution_count": 0,
      "outputs": [
        {
          "output_type": "display_data",
          "data": {
            "text/html": [
              "<p style=\"color: red;\">\n",
              "The default version of TensorFlow in Colab will soon switch to TensorFlow 2.x.<br>\n",
              "We recommend you <a href=\"https://www.tensorflow.org/guide/migrate\" target=\"_blank\">upgrade</a> now \n",
              "or ensure your notebook will continue to use TensorFlow 1.x via the <code>%tensorflow_version 1.x</code> magic:\n",
              "<a href=\"https://colab.research.google.com/notebooks/tensorflow_version.ipynb\" target=\"_blank\">more info</a>.</p>\n"
            ],
            "text/plain": [
              "<IPython.core.display.HTML object>"
            ]
          },
          "metadata": {
            "tags": []
          }
        }
      ]
    },
    {
      "cell_type": "code",
      "metadata": {
        "id": "llVMYBvs-KpG",
        "colab_type": "code",
        "outputId": "3d1d4e43-afd9-4fec-cd9f-160322439f29",
        "colab": {
          "base_uri": "https://localhost:8080/",
          "height": 34
        }
      },
      "source": [
        "tf.test.gpu_device_name()  # check available gpu"
      ],
      "execution_count": 0,
      "outputs": [
        {
          "output_type": "execute_result",
          "data": {
            "text/plain": [
              "'/device:GPU:0'"
            ]
          },
          "metadata": {
            "tags": []
          },
          "execution_count": 2
        }
      ]
    },
    {
      "cell_type": "markdown",
      "metadata": {
        "id": "2qDaz9xl10cY",
        "colab_type": "text"
      },
      "source": [
        "## Load Dataset"
      ]
    },
    {
      "cell_type": "code",
      "metadata": {
        "id": "-3aN7W8iyEcD",
        "colab_type": "code",
        "colab": {}
      },
      "source": [
        "from tensorflow.keras.datasets import mnist\n",
        "from collections import Counter\n",
        "\n",
        "import numpy as np\n",
        "import matplotlib.pyplot as plt\n",
        "\n",
        "%matplotlib inline"
      ],
      "execution_count": 0,
      "outputs": []
    },
    {
      "cell_type": "code",
      "metadata": {
        "id": "IXnbVWjPyPWS",
        "colab_type": "code",
        "outputId": "fd16920c-22b7-4b20-8dc1-346e24df5697",
        "colab": {
          "base_uri": "https://localhost:8080/",
          "height": 50
        }
      },
      "source": [
        "(x_train, y_train), (x_test, y_test) = mnist.load_data()"
      ],
      "execution_count": 0,
      "outputs": [
        {
          "output_type": "stream",
          "text": [
            "Downloading data from https://storage.googleapis.com/tensorflow/tf-keras-datasets/mnist.npz\n",
            "11493376/11490434 [==============================] - 0s 0us/step\n"
          ],
          "name": "stdout"
        }
      ]
    },
    {
      "cell_type": "markdown",
      "metadata": {
        "id": "kyXelsn52ZKd",
        "colab_type": "text"
      },
      "source": [
        "### Get familiar with your data"
      ]
    },
    {
      "cell_type": "code",
      "metadata": {
        "id": "S2OEVMzzzTw4",
        "colab_type": "code",
        "outputId": "b9a5ab05-3afd-4c64-8f9b-ac9f42c031c6",
        "colab": {
          "base_uri": "https://localhost:8080/",
          "height": 34
        }
      },
      "source": [
        "y_train.shape"
      ],
      "execution_count": 0,
      "outputs": [
        {
          "output_type": "execute_result",
          "data": {
            "text/plain": [
              "(60000,)"
            ]
          },
          "metadata": {
            "tags": []
          },
          "execution_count": 5
        }
      ]
    },
    {
      "cell_type": "code",
      "metadata": {
        "id": "E_-iBiTe7y4J",
        "colab_type": "code",
        "outputId": "08529faf-f45f-4216-8880-f17a82d3d983",
        "colab": {
          "base_uri": "https://localhost:8080/",
          "height": 34
        }
      },
      "source": [
        "y_train[:5]"
      ],
      "execution_count": 0,
      "outputs": [
        {
          "output_type": "execute_result",
          "data": {
            "text/plain": [
              "array([5, 0, 4, 1, 9], dtype=uint8)"
            ]
          },
          "metadata": {
            "tags": []
          },
          "execution_count": 6
        }
      ]
    },
    {
      "cell_type": "code",
      "metadata": {
        "id": "VTlR9XpZzY2Z",
        "colab_type": "code",
        "outputId": "c9cb94b8-9292-4a28-b6b3-b12237c4753a",
        "colab": {
          "base_uri": "https://localhost:8080/",
          "height": 185
        }
      },
      "source": [
        "Counter(y_train)  # Check the distribution of classess"
      ],
      "execution_count": 0,
      "outputs": [
        {
          "output_type": "execute_result",
          "data": {
            "text/plain": [
              "Counter({0: 5923,\n",
              "         1: 6742,\n",
              "         2: 5958,\n",
              "         3: 6131,\n",
              "         4: 5842,\n",
              "         5: 5421,\n",
              "         6: 5918,\n",
              "         7: 6265,\n",
              "         8: 5851,\n",
              "         9: 5949})"
            ]
          },
          "metadata": {
            "tags": []
          },
          "execution_count": 7
        }
      ]
    },
    {
      "cell_type": "code",
      "metadata": {
        "id": "LFHH-irY2VQ9",
        "colab_type": "code",
        "outputId": "64a83f54-1ff9-41c4-e190-65b6aa923fba",
        "colab": {
          "base_uri": "https://localhost:8080/",
          "height": 34
        }
      },
      "source": [
        "x_train.shape"
      ],
      "execution_count": 0,
      "outputs": [
        {
          "output_type": "execute_result",
          "data": {
            "text/plain": [
              "(60000, 28, 28)"
            ]
          },
          "metadata": {
            "tags": []
          },
          "execution_count": 8
        }
      ]
    },
    {
      "cell_type": "code",
      "metadata": {
        "id": "cnDn1Jn68CXm",
        "colab_type": "code",
        "outputId": "abb6657f-029d-4284-8ee3-c0bc11a97353",
        "colab": {
          "base_uri": "https://localhost:8080/",
          "height": 34
        }
      },
      "source": [
        "x_test.shape"
      ],
      "execution_count": 0,
      "outputs": [
        {
          "output_type": "execute_result",
          "data": {
            "text/plain": [
              "(10000, 28, 28)"
            ]
          },
          "metadata": {
            "tags": []
          },
          "execution_count": 9
        }
      ]
    },
    {
      "cell_type": "code",
      "metadata": {
        "id": "7xP082tv3Inx",
        "colab_type": "code",
        "colab": {}
      },
      "source": [
        "def show_image(image):\n",
        "  \"\"\"A helper to display grey scale image\"\"\"\n",
        "  plt.imshow(image, cmap='Greys')"
      ],
      "execution_count": 0,
      "outputs": []
    },
    {
      "cell_type": "code",
      "metadata": {
        "id": "BjaX5K8c4Lk8",
        "colab_type": "code",
        "outputId": "05ae58aa-7af4-48db-a68d-fb1ec01769bd",
        "colab": {
          "base_uri": "https://localhost:8080/",
          "height": 265
        }
      },
      "source": [
        "show_image(x_train[2])"
      ],
      "execution_count": 0,
      "outputs": [
        {
          "output_type": "display_data",
          "data": {
            "image/png": "[encoded data removed]",
            "text/plain": [
              "<Figure size 432x288 with 1 Axes>"
            ]
          },
          "metadata": {
            "tags": []
          }
        }
      ]
    },
    {
      "cell_type": "markdown",
      "metadata": {
        "id": "bh2bhUN24h43",
        "colab_type": "text"
      },
      "source": [
        "## Preprocessing\n",
        "\n",
        "- Reshape dataset by adding channel dimension (as required by Keras API)\n",
        "- Normalize data"
      ]
    },
    {
      "cell_type": "code",
      "metadata": {
        "id": "I7wqQu0a4RmZ",
        "colab_type": "code",
        "outputId": "bc382986-c1d7-48dd-ccc5-cd6343fe2ce8",
        "colab": {
          "base_uri": "https://localhost:8080/",
          "height": 50
        }
      },
      "source": [
        "# Add channel dimension and asting the dtype to float for decimal computation\n",
        "\n",
        "x_train = np.expand_dims(x_train, -1).astype('float32')  # Add one dim to the end\n",
        "x_test = np.expand_dims(x_test, -1).astype('float32')\n",
        "\n",
        "print('Shape of training data:', x_train.shape)\n",
        "print('Data type of training data:', x_train.dtype)"
      ],
      "execution_count": 0,
      "outputs": [
        {
          "output_type": "stream",
          "text": [
            "Shape of training data: (60000, 28, 28, 1)\n",
            "Data type of training data: float32\n"
          ],
          "name": "stdout"
        }
      ]
    },
    {
      "cell_type": "code",
      "metadata": {
        "id": "qc73l8Vw5eaB",
        "colab_type": "code",
        "colab": {}
      },
      "source": [
        "# Normalization\n",
        "x_train /= 255.0\n",
        "x_test /= 255.0"
      ],
      "execution_count": 0,
      "outputs": []
    },
    {
      "cell_type": "markdown",
      "metadata": {
        "id": "e_20ZBxM62AG",
        "colab_type": "text"
      },
      "source": [
        "## Build the Convolutional Neural Network\n",
        "\n",
        "We will build a netowrk with the following layers:\n",
        "- Convolutional layer with 28 3X3 kernels\n",
        "- Max Pooling layer with 2X2 tile\n",
        "- Flatten layer to convert 2D image into a 1D vector\n",
        "- Fully connected layer with 128 units\n",
        "- Output layer with softmax"
      ]
    },
    {
      "cell_type": "code",
      "metadata": {
        "id": "hPGtpSr060c9",
        "colab_type": "code",
        "colab": {}
      },
      "source": [
        "from tensorflow.keras.models import Sequential\n",
        "from tensorflow.keras.layers import Conv2D, MaxPooling2D, Flatten, Dense, Dropout"
      ],
      "execution_count": 0,
      "outputs": []
    },
    {
      "cell_type": "code",
      "metadata": {
        "id": "pv9ucB1C7oor",
        "colab_type": "code",
        "outputId": "b60f7b4d-e5a4-4cb7-db71-8591d7fe9676",
        "colab": {
          "base_uri": "https://localhost:8080/",
          "height": 87
        }
      },
      "source": [
        "model = Sequential()\n",
        "\n",
        "model.add(Conv2D(filters=28, kernel_size=(3, 3), input_shape=(28, 28, 1)))\n",
        "model.add(MaxPooling2D(pool_size=(2, 2)))\n",
        "model.add(Flatten())\n",
        "model.add(Dense(128, activation='relu'))\n",
        "# model.add(Dropout(rate=0.5))  # 0.5 probability to drop a neuron\n",
        "model.add(Dense(10, activation='softmax'))  # 10 possible output classes"
      ],
      "execution_count": 0,
      "outputs": [
        {
          "output_type": "stream",
          "text": [
            "WARNING:tensorflow:From /usr/local/lib/python3.6/dist-packages/tensorflow_core/python/ops/resource_variable_ops.py:1630: calling BaseResourceVariable.__init__ (from tensorflow.python.ops.resource_variable_ops) with constraint is deprecated and will be removed in a future version.\n",
            "Instructions for updating:\n",
            "If using Keras pass *_constraint arguments to layers.\n"
          ],
          "name": "stdout"
        }
      ]
    },
    {
      "cell_type": "code",
      "metadata": {
        "id": "YmToYboA8hAH",
        "colab_type": "code",
        "outputId": "980f85e5-dfe7-4e61-9d0c-4e934eab1081",
        "colab": {
          "base_uri": "https://localhost:8080/",
          "height": 319
        }
      },
      "source": [
        "model.summary()"
      ],
      "execution_count": 0,
      "outputs": [
        {
          "output_type": "stream",
          "text": [
            "Model: \"sequential\"\n",
            "_________________________________________________________________\n",
            "Layer (type)                 Output Shape              Param #   \n",
            "=================================================================\n",
            "conv2d (Conv2D)              (None, 26, 26, 28)        280       \n",
            "_________________________________________________________________\n",
            "max_pooling2d (MaxPooling2D) (None, 13, 13, 28)        0         \n",
            "_________________________________________________________________\n",
            "flatten (Flatten)            (None, 4732)              0         \n",
            "_________________________________________________________________\n",
            "dense (Dense)                (None, 128)               605824    \n",
            "_________________________________________________________________\n",
            "dense_1 (Dense)              (None, 10)                1290      \n",
            "=================================================================\n",
            "Total params: 607,394\n",
            "Trainable params: 607,394\n",
            "Non-trainable params: 0\n",
            "_________________________________________________________________\n"
          ],
          "name": "stdout"
        }
      ]
    },
    {
      "cell_type": "markdown",
      "metadata": {
        "id": "GlkmaSFLTntw",
        "colab_type": "text"
      },
      "source": [
        "## Compile and train the model"
      ]
    },
    {
      "cell_type": "code",
      "metadata": {
        "id": "0or2Wc8B8wHT",
        "colab_type": "code",
        "colab": {}
      },
      "source": [
        "model.compile(\n",
        "    optimizer='adam',\n",
        "    loss='sparse_categorical_crossentropy',\n",
        "    metrics=['accuracy']\n",
        ")"
      ],
      "execution_count": 0,
      "outputs": []
    },
    {
      "cell_type": "code",
      "metadata": {
        "id": "gQ5nZ1cy9Qcx",
        "colab_type": "code",
        "outputId": "f8027251-9c3b-4d4f-ae01-b539e378e2c1",
        "colab": {
          "base_uri": "https://localhost:8080/",
          "height": 370
        }
      },
      "source": [
        "history = model.fit(\n",
        "    x=x_train,\n",
        "    y=y_train,\n",
        "    validation_data=(x_test, y_test),\n",
        "    batch_size=16,\n",
        "    epochs=10\n",
        ")"
      ],
      "execution_count": 0,
      "outputs": [
        {
          "output_type": "stream",
          "text": [
            "Train on 60000 samples, validate on 10000 samples\n",
            "Epoch 1/10\n",
            "60000/60000 [==============================] - 19s 314us/sample - loss: 0.1711 - acc: 0.9488 - val_loss: 0.0833 - val_acc: 0.9749\n",
            "Epoch 2/10\n",
            "60000/60000 [==============================] - 13s 210us/sample - loss: 0.0598 - acc: 0.9819 - val_loss: 0.0624 - val_acc: 0.9800\n",
            "Epoch 3/10\n",
            "60000/60000 [==============================] - 13s 213us/sample - loss: 0.0380 - acc: 0.9879 - val_loss: 0.0614 - val_acc: 0.9805\n",
            "Epoch 4/10\n",
            "60000/60000 [==============================] - 13s 212us/sample - loss: 0.0242 - acc: 0.9924 - val_loss: 0.0571 - val_acc: 0.9822\n",
            "Epoch 5/10\n",
            "60000/60000 [==============================] - 12s 207us/sample - loss: 0.0184 - acc: 0.9938 - val_loss: 0.0621 - val_acc: 0.9836\n",
            "Epoch 6/10\n",
            "60000/60000 [==============================] - 13s 216us/sample - loss: 0.0158 - acc: 0.9944 - val_loss: 0.0729 - val_acc: 0.9823\n",
            "Epoch 7/10\n",
            "60000/60000 [==============================] - 13s 211us/sample - loss: 0.0120 - acc: 0.9958 - val_loss: 0.0798 - val_acc: 0.9833\n",
            "Epoch 8/10\n",
            "60000/60000 [==============================] - 13s 209us/sample - loss: 0.0108 - acc: 0.9961 - val_loss: 0.0909 - val_acc: 0.9810\n",
            "Epoch 9/10\n",
            "60000/60000 [==============================] - 13s 214us/sample - loss: 0.0087 - acc: 0.9969 - val_loss: 0.0844 - val_acc: 0.9836\n",
            "Epoch 10/10\n",
            "60000/60000 [==============================] - 13s 219us/sample - loss: 0.0093 - acc: 0.9969 - val_loss: 0.0991 - val_acc: 0.9829\n"
          ],
          "name": "stdout"
        }
      ]
    },
    {
      "cell_type": "code",
      "metadata": {
        "id": "ci7IHhLVDwCv",
        "colab_type": "code",
        "colab": {}
      },
      "source": [
        "def plot_history(his, metrics):\n",
        "  \"\"\"\n",
        "  Given a history object returned from `fit` and the name of metrics,\n",
        "  plot the curve of metrics aginst number of epochs.\n",
        "  \"\"\"\n",
        "  for metric in metrics:\n",
        "    plt.plot(his.history[metric], label=metric)\n",
        "  plt.legend()"
      ],
      "execution_count": 0,
      "outputs": []
    },
    {
      "cell_type": "code",
      "metadata": {
        "id": "_6eizm2NS7Ma",
        "colab_type": "code",
        "outputId": "ddf760b5-4dbb-4f10-af66-5c04c953f88f",
        "colab": {
          "base_uri": "https://localhost:8080/",
          "height": 265
        }
      },
      "source": [
        "plot_history(history, ['loss', 'val_loss'])"
      ],
      "execution_count": 0,
      "outputs": [
        {
          "output_type": "display_data",
          "data": {
            "image/png": "[encoded data removed]",
            "text/plain": [
              "<Figure size 432x288 with 1 Axes>"
            ]
          },
          "metadata": {
            "tags": []
          }
        }
      ]
    },
    {
      "cell_type": "code",
      "metadata": {
        "id": "wThtBPvQTGh4",
        "colab_type": "code",
        "outputId": "45f15710-88c6-4db4-8884-8f99e2b7f3d0",
        "colab": {
          "base_uri": "https://localhost:8080/",
          "height": 265
        }
      },
      "source": [
        "plot_history(history, ['acc', 'val_acc'])"
      ],
      "execution_count": 0,
      "outputs": [
        {
          "output_type": "display_data",
          "data": {
            "image/png": "[encoded data removed]",
            "text/plain": [
              "<Figure size 432x288 with 1 Axes>"
            ]
          },
          "metadata": {
            "tags": []
          }
        }
      ]
    },
    {
      "cell_type": "markdown",
      "metadata": {
        "id": "NareZV9-UZOW",
        "colab_type": "text"
      },
      "source": [
        "## Predict"
      ]
    },
    {
      "cell_type": "code",
      "metadata": {
        "id": "G09jiOqKUQYI",
        "colab_type": "code",
        "colab": {}
      },
      "source": [
        "def predict_image(model, image):\n",
        "  # Apply the same pre-processing\n",
        "  show_image(image)\n",
        "  pred = model.predict(image.reshape(1, 28, 28, 1))  # reshape to (batch, img_rows, img_cols, channel)\n",
        "  print(\"Raw prediction output:\", pred)\n",
        "  print(\"Predicted number:\", pred.argmax())"
      ],
      "execution_count": 0,
      "outputs": []
    },
    {
      "cell_type": "code",
      "metadata": {
        "id": "pzLdEViSVxuP",
        "colab_type": "code",
        "colab": {}
      },
      "source": [
        "(_, _), (test_images, _) = mnist.load_data()"
      ],
      "execution_count": 0,
      "outputs": []
    },
    {
      "cell_type": "code",
      "metadata": {
        "id": "uISaOn0jV5gF",
        "colab_type": "code",
        "outputId": "ac5e0316-7567-4b61-e132-edfcf8d7c3de",
        "colab": {
          "base_uri": "https://localhost:8080/",
          "height": 298
        }
      },
      "source": [
        "from random import randint\n",
        "\n",
        "test_image = test_images[randint(1, test_images.shape[0])]\n",
        "predict_image(model, test_image)"
      ],
      "execution_count": 0,
      "outputs": [
        {
          "output_type": "stream",
          "text": [
            "Raw prediction output: [[0. 0. 0. 0. 0. 0. 0. 0. 0. 1.]]\n",
            "Predicted number: 9\n"
          ],
          "name": "stdout"
        },
        {
          "output_type": "display_data",
          "data": {
            "image/png": "[encoded data removed]",
            "text/plain": [
              "<Figure size 432x288 with 1 Axes>"
            ]
          },
          "metadata": {
            "tags": []
          }
        }
      ]
    },
    {
      "cell_type": "code",
      "metadata": {
        "id": "vM_RlIjRWL7t",
        "colab_type": "code",
        "colab": {}
      },
      "source": [
        ""
      ],
      "execution_count": 0,
      "outputs": []
    }
  ]
}