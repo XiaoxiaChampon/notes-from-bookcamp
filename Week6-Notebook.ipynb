{
  "cells": [
    {
      "cell_type": "markdown",
      "source": [
        "(CONFIDENTIAL) INTERNAL USE ONLY, NOT FOR EXTERNAL DISTRIBUTION"
      ],
      "metadata": {}
    },
    {
      "cell_type": "markdown",
      "source": [
        "<h1 id=\"tocheading\">Table of Contents</h1>\n",
        "<div id=\"toc\"></div>"
      ],
      "metadata": {}
    },
    {
      "cell_type": "code",
      "source": [
        "%%javascript\n",
        "$.getScript('https://kmahelona.github.io/ipython_notebook_goodies/ipython_notebook_toc.js')"
      ],
      "outputs": [
        {
          "output_type": "display_data",
          "data": {
            "application/javascript": [
              "$.getScript('https://kmahelona.github.io/ipython_notebook_goodies/ipython_notebook_toc.js')"
            ],
            "text/plain": [
              "<IPython.core.display.Javascript object>"
            ]
          },
          "metadata": {}
        }
      ],
      "execution_count": 1,
      "metadata": {
        "collapsed": false
      }
    },
    {
      "cell_type": "markdown",
      "source": [
        "# Dimension Reduction "
      ],
      "metadata": {}
    },
    {
      "cell_type": "code",
      "source": [
        "# Data dimensionality reduction\n",
        "\n",
        "# Data visualization\n",
        "\n",
        "# Preprocessing for supervised learning"
      ],
      "outputs": [],
      "execution_count": null,
      "metadata": {
        "collapsed": true
      }
    },
    {
      "cell_type": "code",
      "source": [],
      "outputs": [],
      "execution_count": null,
      "metadata": {
        "collapsed": true
      }
    },
    {
      "cell_type": "markdown",
      "source": [
        "## Randomized projection"
      ],
      "metadata": {}
    },
    {
      "cell_type": "code",
      "source": [
        "# ~1M -> ~1K "
      ],
      "outputs": [],
      "execution_count": null,
      "metadata": {
        "collapsed": true
      }
    },
    {
      "cell_type": "code",
      "source": [
        "# How minimum dimension changes? along with data points number & accuracy"
      ],
      "outputs": [],
      "execution_count": null,
      "metadata": {
        "collapsed": true
      }
    },
    {
      "cell_type": "code",
      "source": [
        "# How the components looks like in this model? "
      ],
      "outputs": [],
      "execution_count": null,
      "metadata": {
        "collapsed": true
      }
    },
    {
      "cell_type": "code",
      "source": [
        "# bag of words, generate featrue\n",
        "# n-gram feature extraction (I am going out: \"I am\", \"am going\", \"going out\") ~ 100 K"
      ],
      "outputs": [],
      "execution_count": null,
      "metadata": {
        "collapsed": true
      }
    },
    {
      "cell_type": "code",
      "source": [
        "# How it process RP? "
      ],
      "outputs": [],
      "execution_count": null,
      "metadata": {
        "collapsed": true
      }
    },
    {
      "cell_type": "code",
      "source": [
        "# Excercise: play with n_cluster = 3, how the distances looks different? \n",
        "# how about n_cluster = 4?"
      ],
      "outputs": [],
      "execution_count": null,
      "metadata": {
        "collapsed": true
      }
    },
    {
      "cell_type": "markdown",
      "source": [
        "## Principle component analysis"
      ],
      "metadata": {}
    },
    {
      "cell_type": "code",
      "source": [
        "# visualize data through scatterplot \n",
        "from pandas.tools.plotting import scatter_matrix\n",
        "\n",
        "data = datasets.load_iris()\n",
        "X = data.data\n",
        "Y =  data.target\n",
        "\n",
        "_ = scatter_matrix(pd.DataFrame(X), alpha=0.2, figsize=(6, 6), diagonal='hist', c=Y)"
      ],
      "outputs": [],
      "execution_count": null,
      "metadata": {
        "collapsed": true
      }
    },
    {
      "cell_type": "markdown",
      "source": [
        "### Linear PCA"
      ],
      "metadata": {}
    },
    {
      "cell_type": "code",
      "source": [],
      "outputs": [],
      "execution_count": null,
      "metadata": {
        "collapsed": true
      }
    },
    {
      "cell_type": "code",
      "source": [
        "# Process (SVD approach)\n",
        "X1 = X - np.mean(X, axis=0)\n",
        "\n",
        "# SVD over matrix \n",
        "U, S, V = np.linalg.svd(X1, full_matrices=False)\n",
        "\n",
        "# directly get explained varience \n",
        "explained_variance_ = (S ** 2) / X1.shape[0]\n",
        "\n",
        "# compare with PCA's eighen vector"
      ],
      "outputs": [],
      "execution_count": null,
      "metadata": {
        "collapsed": true
      }
    },
    {
      "cell_type": "code",
      "source": [
        "# Recover the first most important components\n",
        "m = 1\n",
        "\n",
        "U1 = U[:, :m]\n",
        "V1 = V[:m, :]\n",
        "S1 = S[:m]\n",
        "print U1.shape, S1.shape, V1.shape"
      ],
      "outputs": [],
      "execution_count": null,
      "metadata": {
        "collapsed": true
      }
    },
    {
      "cell_type": "code",
      "source": [],
      "outputs": [],
      "execution_count": null,
      "metadata": {
        "collapsed": true
      }
    },
    {
      "cell_type": "code",
      "source": [
        "# How PCA works? \n",
        "# Step 1. data are normalized by mean\n",
        "# Step 2. Covarience matrix is calculated\n",
        "# Step 3. Eig value & vectors are extracted\n",
        "# Step 4. Sort by the eig values\n"
      ],
      "outputs": [],
      "execution_count": null,
      "metadata": {
        "collapsed": true
      }
    },
    {
      "cell_type": "code",
      "source": [],
      "outputs": [],
      "execution_count": null,
      "metadata": {
        "collapsed": true
      }
    },
    {
      "cell_type": "code",
      "source": [
        "# Excercise: try run PCA for this data, see how it looks like: the transformed result & explained variance ratio\n",
        "# changing the d, see how it (varience explained) looks like\n",
        "N = 100\n",
        "d = 10.\n",
        "x = np.random.normal(size=N).reshape([N,1])\n",
        "y = (np.random.normal(size=N) * d).reshape([N,1])\n",
        "data = np.hstack([x,y])"
      ],
      "outputs": [],
      "execution_count": null,
      "metadata": {
        "collapsed": true
      }
    },
    {
      "cell_type": "code",
      "source": [],
      "outputs": [],
      "execution_count": null,
      "metadata": {
        "collapsed": true
      }
    },
    {
      "cell_type": "code",
      "source": [],
      "outputs": [],
      "execution_count": null,
      "metadata": {
        "collapsed": true
      }
    },
    {
      "cell_type": "code",
      "source": [],
      "outputs": [],
      "execution_count": null,
      "metadata": {
        "collapsed": true
      }
    },
    {
      "cell_type": "markdown",
      "source": [
        "### Randomized PCA"
      ],
      "metadata": {}
    },
    {
      "cell_type": "code",
      "source": [
        "# what if only need a small amount of PCs? "
      ],
      "outputs": [],
      "execution_count": null,
      "metadata": {
        "collapsed": true
      }
    },
    {
      "cell_type": "code",
      "source": [
        "# time difference"
      ],
      "outputs": [],
      "execution_count": null,
      "metadata": {
        "collapsed": true
      }
    },
    {
      "cell_type": "code",
      "source": [],
      "outputs": [],
      "execution_count": null,
      "metadata": {
        "collapsed": true
      }
    },
    {
      "cell_type": "code",
      "source": [
        "# https://web.stanford.edu/group/mmds/slides2010/Martinsson.pdf"
      ],
      "outputs": [],
      "execution_count": null,
      "metadata": {
        "collapsed": true
      }
    },
    {
      "cell_type": "markdown",
      "source": [
        "### Incremental PCA"
      ],
      "metadata": {}
    },
    {
      "cell_type": "code",
      "source": [
        "# what if data is huge!\n",
        "# batch process"
      ],
      "outputs": [],
      "execution_count": null,
      "metadata": {
        "collapsed": true
      }
    },
    {
      "cell_type": "markdown",
      "source": [
        "### Kernal PCA"
      ],
      "metadata": {}
    },
    {
      "cell_type": "code",
      "source": [
        "np.random.seed(0)\n",
        "\n",
        "X, y = datasets.make_circles(n_samples=400, factor=.3, noise=.05)\n",
        "\n",
        "kpca = decomposition.KernelPCA(kernel=\"rbf\", fit_inverse_transform=True, gamma=10)\n",
        "X_kpca = kpca.fit_transform(X)\n",
        "X_back = kpca.inverse_transform(X_kpca)\n",
        "pca = decomposition.PCA()\n",
        "X_pca = pca.fit_transform(X)\n",
        "\n",
        "# Plot results\n",
        "\n",
        "plt.figure()\n",
        "plt.subplot(2, 2, 1, aspect='equal')\n",
        "plt.title(\"Original space\")\n",
        "reds = y == 0\n",
        "blues = y == 1\n",
        "\n",
        "plt.plot(X[reds, 0], X[reds, 1], \"ro\")\n",
        "plt.plot(X[blues, 0], X[blues, 1], \"bo\")\n",
        "plt.xlabel(\"$x_1$\")\n",
        "plt.ylabel(\"$x_2$\")\n",
        "\n",
        "X1, X2 = np.meshgrid(np.linspace(-1.5, 1.5, 50), np.linspace(-1.5, 1.5, 50))\n",
        "X_grid = np.array([np.ravel(X1), np.ravel(X2)]).T\n",
        "# projection on the first principal component (in the phi space)\n",
        "Z_grid = kpca.transform(X_grid)[:, 0].reshape(X1.shape)\n",
        "plt.contour(X1, X2, Z_grid, colors='grey', linewidths=1, origin='lower')\n",
        "\n",
        "plt.subplot(2, 2, 2, aspect='equal')\n",
        "plt.plot(X_pca[reds, 0], X_pca[reds, 1], \"ro\")\n",
        "plt.plot(X_pca[blues, 0], X_pca[blues, 1], \"bo\")\n",
        "plt.title(\"Projection by PCA\")\n",
        "plt.xlabel(\"1st principal component\")\n",
        "plt.ylabel(\"2nd component\")\n",
        "\n",
        "plt.subplot(2, 2, 3, aspect='equal')\n",
        "plt.plot(X_kpca[reds, 0], X_kpca[reds, 1], \"ro\")\n",
        "plt.plot(X_kpca[blues, 0], X_kpca[blues, 1], \"bo\")\n",
        "plt.title(\"Projection by KPCA\")\n",
        "plt.xlabel(\"1st principal component in space induced by $\\phi$\")\n",
        "plt.ylabel(\"2nd component\")\n",
        "\n",
        "plt.subplot(2, 2, 4, aspect='equal')\n",
        "plt.plot(X_back[reds, 0], X_back[reds, 1], \"ro\")\n",
        "plt.plot(X_back[blues, 0], X_back[blues, 1], \"bo\")\n",
        "plt.title(\"Original space after inverse transform\")\n",
        "plt.xlabel(\"$x_1$\")\n",
        "plt.ylabel(\"$x_2$\")\n",
        "\n",
        "plt.subplots_adjust(0.02, 0.10, 0.98, 0.94, 0.04, 0.35)\n",
        "\n",
        "plt.show()"
      ],
      "outputs": [],
      "execution_count": null,
      "metadata": {
        "collapsed": true
      }
    },
    {
      "cell_type": "code",
      "source": [],
      "outputs": [],
      "execution_count": null,
      "metadata": {
        "collapsed": true
      }
    },
    {
      "cell_type": "code",
      "source": [],
      "outputs": [],
      "execution_count": null,
      "metadata": {
        "collapsed": true
      }
    },
    {
      "cell_type": "code",
      "source": [
        "# https://cseweb.ucsd.edu/classes/fa01/cse291/kernelPCA_article.pdf"
      ],
      "outputs": [],
      "execution_count": null,
      "metadata": {
        "collapsed": true
      }
    },
    {
      "cell_type": "markdown",
      "source": [
        "## Manifold learning"
      ],
      "metadata": {}
    },
    {
      "cell_type": "code",
      "source": [],
      "outputs": [],
      "execution_count": null,
      "metadata": {
        "collapsed": true
      }
    },
    {
      "cell_type": "markdown",
      "source": [
        "### MDS"
      ],
      "metadata": {}
    },
    {
      "cell_type": "code",
      "source": [
        "# Multidimensional Scaling\n",
        "# Principle: optimize \"stress\" along with configuration search\n",
        "# Require n_components provided\n",
        "# Optional: dissimilarity metrics"
      ],
      "outputs": [],
      "execution_count": null,
      "metadata": {
        "collapsed": true
      }
    },
    {
      "cell_type": "code",
      "source": [
        "from sklearn import datasets\n",
        "data = datasets.make_blobs(n_samples=1000, n_features=10, centers=3, random_state=0)\n",
        "data[0].shape\n",
        "# plt.plot(data[0], data[1], '.', ms=10);"
      ],
      "outputs": [],
      "execution_count": null,
      "metadata": {
        "collapsed": true
      }
    },
    {
      "cell_type": "code",
      "source": [],
      "outputs": [],
      "execution_count": null,
      "metadata": {
        "collapsed": true
      }
    },
    {
      "cell_type": "code",
      "source": [
        "# how the _stress changes"
      ],
      "outputs": [],
      "execution_count": null,
      "metadata": {
        "collapsed": true
      }
    },
    {
      "cell_type": "markdown",
      "source": [
        "### IsoMap"
      ],
      "metadata": {}
    },
    {
      "cell_type": "code",
      "source": [
        "# Isometric Mapping\n",
        "# Principle: use minimum path search to get \"local\" connection distance, then MDS or kernal PCA\n",
        "# nearest neighbour + minimum distance calculation\n",
        "# Require n_neighbors, n_components\n",
        "# Optional: dissimilarity metrics\n",
        "\n",
        "# 1. Construct neighborhood graph ['auto'|'brute'|'kd_tree'|'ball_tree']\n",
        "# 2. Compute shortest paths ['auto'|'FW'|'D']\n",
        "# 3. Construct d-dimensional embedding"
      ],
      "outputs": [],
      "execution_count": null,
      "metadata": {
        "collapsed": true
      }
    },
    {
      "cell_type": "code",
      "source": [
        "# http://wearables.cc.gatech.edu/paper_of_week/isomap.pdf"
      ],
      "outputs": [],
      "execution_count": null,
      "metadata": {
        "collapsed": true
      }
    },
    {
      "cell_type": "code",
      "source": [
        "X, Y = datasets.make_swiss_roll(1000, random_state=1)"
      ],
      "outputs": [],
      "execution_count": null,
      "metadata": {
        "collapsed": true
      }
    },
    {
      "cell_type": "code",
      "source": [
        "fig = plt.figure()\n",
        "ax = fig.gca(projection='3d')\n",
        "ax.scatter(X[:,0], X[:,1], X[:,2], c=Y)"
      ],
      "outputs": [],
      "execution_count": null,
      "metadata": {
        "collapsed": true
      }
    },
    {
      "cell_type": "code",
      "source": [
        "# compare PCA and IsoMap and MDS"
      ],
      "outputs": [],
      "execution_count": null,
      "metadata": {
        "collapsed": true
      }
    },
    {
      "cell_type": "markdown",
      "source": [
        "### Local linear embedding"
      ],
      "metadata": {}
    },
    {
      "cell_type": "code",
      "source": [
        "# Nearest neighbour search\n",
        "# Local distance construct local PCA\n",
        "# "
      ],
      "outputs": [],
      "execution_count": null,
      "metadata": {
        "collapsed": true
      }
    },
    {
      "cell_type": "code",
      "source": [
        "# changing the n_neighbors\n",
        "%%time\n",
        "mi = manifold.LocallyLinearEmbedding(n_neighbors=999)\n",
        "Xnew = mi.fit_transform(X)\n",
        "plt.scatter(Xnew[:,0], Xnew[:,1], c=Y)"
      ],
      "outputs": [],
      "execution_count": null,
      "metadata": {
        "collapsed": true
      }
    },
    {
      "cell_type": "markdown",
      "source": [
        "### t-SNE"
      ],
      "metadata": {}
    },
    {
      "cell_type": "code",
      "source": [
        "# changing the n_neighbors\n",
        "# based on retain the probability between each pair"
      ],
      "outputs": [],
      "execution_count": null,
      "metadata": {
        "collapsed": true
      }
    },
    {
      "cell_type": "code",
      "source": [],
      "outputs": [],
      "execution_count": null,
      "metadata": {
        "collapsed": true
      }
    }
  ],
  "metadata": {
    "anaconda-cloud": {},
    "kernelspec": {
      "name": "python3",
      "language": "python",
      "display_name": "Python 3"
    },
    "language_info": {
      "name": "python",
      "version": "3.7.3",
      "mimetype": "text/x-python",
      "codemirror_mode": {
        "name": "ipython",
        "version": 3
      },
      "pygments_lexer": "ipython3",
      "nbconvert_exporter": "python",
      "file_extension": ".py"
    },
    "kernel_info": {
      "name": "python3"
    },
    "nteract": {
      "version": "0.15.0"
    }
  },
  "nbformat": 4,
  "nbformat_minor": 1
}